{
 "cells": [
  {
   "cell_type": "code",
   "execution_count": null,
   "metadata": {},
   "outputs": [],
   "source": [
    "%matplotlib inline\n",
    "import pandas as pd\n",
    "import numpy as np\n",
    "import matplotlib.pyplot as plt\n",
    "import seaborn as sns"
   ]
  },
  {
   "cell_type": "code",
   "execution_count": null,
   "metadata": {},
   "outputs": [],
   "source": [
    "# import data\n",
    "df = pd.read_csv('data.csv')\n",
    "\n",
    "df.head()"
   ]
  },
  {
   "cell_type": "code",
   "execution_count": null,
   "metadata": {},
   "outputs": [],
   "source": [
    "df.info()"
   ]
  },
  {
   "cell_type": "code",
   "execution_count": null,
   "metadata": {},
   "outputs": [],
   "source": [
    "df.describe()"
   ]
  },
  {
   "cell_type": "code",
   "execution_count": null,
   "metadata": {},
   "outputs": [],
   "source": [
    "# find the number of missing values in each column\n",
    "df.isnull().sum().sort_values(ascending=False)"
   ]
  },
  {
   "cell_type": "code",
   "execution_count": null,
   "metadata": {},
   "outputs": [],
   "source": [
    "# remove the rows with missing values in the column 'Daily tests'\n",
    "df = df.dropna(subset=['Daily tests']).reset_index(drop = True)"
   ]
  },
  {
   "cell_type": "code",
   "execution_count": null,
   "metadata": {},
   "outputs": [],
   "source": [
    "df.isnull().sum().sort_values(ascending=False)"
   ]
  },
  {
   "attachments": {},
   "cell_type": "markdown",
   "metadata": {},
   "source": [
    "Removing countries with not enough data"
   ]
  },
  {
   "cell_type": "code",
   "execution_count": null,
   "metadata": {},
   "outputs": [],
   "source": [
    "# find the sum of unique days in dataset\n",
    "# total days between 1/1/2020 and 28/2/2021\n",
    "total_days = 425 \n",
    "total_countries = len(df['Entity'].unique())\n",
    "# for each country, find the number of days \n",
    "countries = df['Entity'].unique()\n",
    "for country in countries:\n",
    "    # find the data frame for each country\n",
    "    country_df = df[df['Entity'] == country]\n",
    "    # find the number of days for each country\n",
    "    country_days = country_df['Date'].nunique()\n",
    "    # find the percent of days for each country\n",
    "    percent = country_days / total_days\n",
    "    if (percent<0.15): \n",
    "        # these countries have less than 15% of the days in the dataset\n",
    "        # so we will remove them\n",
    "        df.drop(df[df['Entity'] == country].index, inplace = True)\n",
    "        # print(country, round(percent, 2))\n",
    "# fix the index\n",
    "df = df.reset_index(drop = True)\n",
    "# print how many countries are left\n",
    "print('Number of countries left: ',total_countries-len(df['Entity'].unique()))"
   ]
  },
  {
   "attachments": {},
   "cell_type": "markdown",
   "metadata": {},
   "source": [
    "Replace NaN values before first deaths and cases for each country with 0"
   ]
  },
  {
   "cell_type": "code",
   "execution_count": null,
   "metadata": {},
   "outputs": [],
   "source": [
    "entityGroup = df.groupby('Entity')\n",
    "\n",
    "for entity, group in entityGroup:\n",
    "    for index in range(group.index[0], group.index[-1] + 1):\n",
    "        if (df.isnull().iloc[index]['Cases']):\n",
    "            df.at[index, 'Cases'] = 0\n",
    "        else:\n",
    "            break\n",
    "\n",
    "for entity, group in entityGroup:\n",
    "    for index in range(group.index[0], group.index[-1] + 1):\n",
    "        if (df.isnull().iloc[index]['Deaths']):\n",
    "            df.at[index, 'Deaths'] = 0\n",
    "        else:\n",
    "            break\n",
    "\n",
    "df.isnull().sum().sort_values(ascending=False)"
   ]
  },
  {
   "attachments": {},
   "cell_type": "markdown",
   "metadata": {},
   "source": [
    "Convert total number of deaths and cases to daily number"
   ]
  },
  {
   "cell_type": "code",
   "execution_count": null,
   "metadata": {},
   "outputs": [],
   "source": [
    "for entity, group in entityGroup:\n",
    "    for index in range(group.index[0]+1, group.index[-1] + 1):\n",
    "        daily_cases = df.at[index, 'Cases'] - df.at[index - 1, 'Cases'] \n",
    "        daily_deaths = df.at[index, 'Deaths'] - df.at[index - 1, 'Deaths']\n",
    "        if (daily_cases < 0):\n",
    "            df.at[index, 'Cases'] = df.at[index-1, 'Cases']\n",
    "        if (daily_deaths < 0):\n",
    "            df.at[index, 'Deaths'] = df.at[index-1, 'Deaths']"
   ]
  },
  {
   "cell_type": "code",
   "execution_count": null,
   "metadata": {},
   "outputs": [],
   "source": [
    "# add a new column to the DataFrame for cases today\n",
    "df['Daily cases'] = 0\n",
    "# add a new column to the DataFrame for deaths today\n",
    "df['Daily deaths'] = 0\n",
    "\n",
    "dfCopy = df.copy()\n",
    "for entity, group in entityGroup:\n",
    "    for index in range(group.index[0]+1, group.index[-1] + 1):\n",
    "        df.at[index, 'Daily cases'] = dfCopy.at[index, 'Cases'] - dfCopy.at[index - 1, 'Cases'] \n",
    "        df.at[index, 'Daily deaths'] = dfCopy.at[index, 'Deaths'] - dfCopy.at[index - 1, 'Deaths']"
   ]
  },
  {
   "attachments": {},
   "cell_type": "markdown",
   "metadata": {},
   "source": [
    "Drop the row where daily cases are more than daily tests"
   ]
  },
  {
   "cell_type": "code",
   "execution_count": null,
   "metadata": {},
   "outputs": [],
   "source": [
    "df.drop(df[df['Daily tests'] < df['Daily cases']].index, inplace = True)\n",
    "df = df.reset_index(drop = True)"
   ]
  },
  {
   "attachments": {},
   "cell_type": "markdown",
   "metadata": {},
   "source": [
    "Create Seasons Column\\\n",
    "1 (winter) -> December - February \\\n",
    "2 (spring) -> March - May \\\n",
    "3 (summer) -> June - August \\\n",
    "4 (autumn) -> September - November"
   ]
  },
  {
   "cell_type": "code",
   "execution_count": null,
   "metadata": {},
   "outputs": [],
   "source": [
    "seasons = {1: 'Winter', 2: 'Spring', 3: 'Summer', 4: 'Autumn'}\n",
    "    \n",
    "df['Date'] =  pd.to_datetime(df['Date'])\n",
    "df['Season'] = df['Date'].apply(lambda x: seasons[x.month%12 // 3 + 1])"
   ]
  },
  {
   "attachments": {},
   "cell_type": "markdown",
   "metadata": {},
   "source": [
    "Correlation Heatmap"
   ]
  },
  {
   "cell_type": "code",
   "execution_count": null,
   "metadata": {},
   "outputs": [],
   "source": [
    "# Set the size of the figure\n",
    "fig, ax = plt.subplots(figsize=(10, 10))\n",
    "\n",
    "sns.heatmap(df.corr(numeric_only=True),annot=True,square=False, ax=ax)\n",
    "plt.show()"
   ]
  },
  {
   "attachments": {},
   "cell_type": "markdown",
   "metadata": {},
   "source": [
    "Extract a csv file with the cleaned data"
   ]
  },
  {
   "cell_type": "code",
   "execution_count": null,
   "metadata": {},
   "outputs": [],
   "source": [
    "# export datta to csv\n",
    "df.to_csv('data_cleaned.csv', index=False)"
   ]
  }
 ],
 "metadata": {
  "kernelspec": {
   "display_name": "Python 3",
   "language": "python",
   "name": "python3"
  },
  "language_info": {
   "codemirror_mode": {
    "name": "ipython",
    "version": 3
   },
   "file_extension": ".py",
   "mimetype": "text/x-python",
   "name": "python",
   "nbconvert_exporter": "python",
   "pygments_lexer": "ipython3",
   "version": "3.10.5"
  },
  "orig_nbformat": 4
 },
 "nbformat": 4,
 "nbformat_minor": 2
}
