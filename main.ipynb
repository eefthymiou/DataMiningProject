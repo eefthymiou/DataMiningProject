{
 "cells": [
  {
   "cell_type": "code",
   "execution_count": null,
   "metadata": {},
   "outputs": [],
   "source": [
    "%matplotlib inline\n",
    "import pandas as pd\n",
    "import numpy as np\n",
    "import matplotlib.pyplot as plt\n",
    "import seaborn as sns"
   ]
  },
  {
   "cell_type": "code",
   "execution_count": null,
   "metadata": {},
   "outputs": [],
   "source": [
    "# import data\n",
    "df = pd.read_csv('data.csv')\n",
    "\n",
    "df.head()"
   ]
  },
  {
   "cell_type": "code",
   "execution_count": null,
   "metadata": {},
   "outputs": [],
   "source": [
    "df.info()"
   ]
  },
  {
   "cell_type": "code",
   "execution_count": null,
   "metadata": {},
   "outputs": [],
   "source": [
    "df.describe()"
   ]
  },
  {
   "cell_type": "code",
   "execution_count": null,
   "metadata": {},
   "outputs": [],
   "source": [
    "# remove latitude and longitude columns\n",
    "df.drop(['Latitude'], axis=1, inplace=True)\n",
    "df.drop(['Longitude'], axis=1, inplace=True)"
   ]
  },
  {
   "cell_type": "code",
   "execution_count": null,
   "metadata": {},
   "outputs": [],
   "source": [
    "# find the number of missing values in each column\n",
    "df.isnull().sum().sort_values(ascending=False)"
   ]
  },
  {
   "cell_type": "code",
   "execution_count": null,
   "metadata": {},
   "outputs": [],
   "source": [
    "# remove the rows with missing values in the column 'Daily tests'\n",
    "df = df.dropna(subset=['Daily tests']).reset_index(drop = True)"
   ]
  },
  {
   "cell_type": "code",
   "execution_count": null,
   "metadata": {},
   "outputs": [],
   "source": [
    "df.isnull().sum().sort_values(ascending=False)"
   ]
  },
  {
   "attachments": {},
   "cell_type": "markdown",
   "metadata": {},
   "source": [
    "Removing countries with not enough data"
   ]
  },
  {
   "cell_type": "code",
   "execution_count": null,
   "metadata": {},
   "outputs": [],
   "source": [
    "# find the sum of unique days in dataset\n",
    "# total days between 1/1/2020 and 28/2/2021\n",
    "total_days = 425 \n",
    "total_countries = len(df['Entity'].unique())\n",
    "# for each country, find the number of days \n",
    "countries = df['Entity'].unique()\n",
    "for country in countries:\n",
    "    # find the data frame for each country\n",
    "    country_df = df[df['Entity'] == country]\n",
    "    # find the number of days for each country\n",
    "    country_days = country_df['Date'].nunique()\n",
    "    # find the percent of days for each country\n",
    "    percent = country_days / total_days\n",
    "    if (percent<0.15): \n",
    "        # these countries have less than 15% of the days in the dataset\n",
    "        # so we will remove them\n",
    "        df.drop(df[df['Entity'] == country].index, inplace = True)\n",
    "        # print(country, round(percent, 2))\n",
    "# fix the index\n",
    "df = df.reset_index(drop = True)\n",
    "# print how many countries are left\n",
    "print('Number of countries left: ',total_countries-len(df['Entity'].unique()))"
   ]
  },
  {
   "attachments": {},
   "cell_type": "markdown",
   "metadata": {},
   "source": [
    "Replace NaN values before first deaths and cases for each country with 0"
   ]
  },
  {
   "cell_type": "code",
   "execution_count": null,
   "metadata": {},
   "outputs": [],
   "source": [
    "entityGroup = df.groupby('Entity')\n",
    "\n",
    "for entity, group in entityGroup:\n",
    "    for index in range(group.index[0], group.index[-1] + 1):\n",
    "        if (df.isnull().iloc[index]['Cases']):\n",
    "            df.at[index, 'Cases'] = 0\n",
    "        else:\n",
    "            break\n",
    "\n",
    "for entity, group in entityGroup:\n",
    "    for index in range(group.index[0], group.index[-1] + 1):\n",
    "        if (df.isnull().iloc[index]['Deaths']):\n",
    "            df.at[index, 'Deaths'] = 0\n",
    "        else:\n",
    "            break\n",
    "\n",
    "df.isnull().sum().sort_values(ascending=False)"
   ]
  },
  {
   "attachments": {},
   "cell_type": "markdown",
   "metadata": {},
   "source": [
    "Convert total number of deaths and cases to daily number"
   ]
  },
  {
   "cell_type": "code",
   "execution_count": null,
   "metadata": {},
   "outputs": [],
   "source": [
    "for entity, group in entityGroup:\n",
    "    for index in range(group.index[0]+1, group.index[-1] + 1):\n",
    "        daily_cases = df.at[index, 'Cases'] - df.at[index - 1, 'Cases'] \n",
    "        daily_deaths = df.at[index, 'Deaths'] - df.at[index - 1, 'Deaths']\n",
    "        if (daily_cases < 0):\n",
    "            df.at[index, 'Cases'] = df.at[index-1, 'Cases']\n",
    "        if (daily_deaths < 0):\n",
    "            df.at[index, 'Deaths'] = df.at[index-1, 'Deaths']"
   ]
  },
  {
   "cell_type": "code",
   "execution_count": null,
   "metadata": {},
   "outputs": [],
   "source": [
    "# add a new column to the DataFrame for cases today\n",
    "df['Daily cases'] = 0\n",
    "# add a new column to the DataFrame for deaths today\n",
    "df['Daily deaths'] = 0\n",
    "\n",
    "dfCopy = df.copy()\n",
    "for entity, group in entityGroup:\n",
    "    for index in range(group.index[0]+1, group.index[-1] + 1):\n",
    "        df.at[index, 'Daily cases'] = dfCopy.at[index, 'Cases'] - dfCopy.at[index - 1, 'Cases'] \n",
    "        df.at[index, 'Daily deaths'] = dfCopy.at[index, 'Deaths'] - dfCopy.at[index - 1, 'Deaths']"
   ]
  },
  {
   "attachments": {},
   "cell_type": "markdown",
   "metadata": {},
   "source": [
    "Drop the row where daily cases are more than daily tests"
   ]
  },
  {
   "cell_type": "code",
   "execution_count": null,
   "metadata": {},
   "outputs": [],
   "source": [
    "df.drop(df[df['Daily tests'] < df['Daily cases']].index, inplace = True)\n",
    "df = df.reset_index(drop = True)"
   ]
  },
  {
   "attachments": {},
   "cell_type": "markdown",
   "metadata": {},
   "source": [
    "Create Seasons Column\\\n",
    "1 (winter) -> December - February \\\n",
    "2 (spring) -> March - May \\\n",
    "3 (summer) -> June - August \\\n",
    "4 (autumn) -> September - November"
   ]
  },
  {
   "cell_type": "code",
   "execution_count": null,
   "metadata": {},
   "outputs": [],
   "source": [
    "seasons = {1: 'Winter', 2: 'Spring', 3: 'Summer', 4: 'Autumn'}\n",
    "    \n",
    "df['Date'] =  pd.to_datetime(df['Date'])\n",
    "df['Season'] = df['Date'].apply(lambda x: seasons[x.month%12 // 3 + 1])"
   ]
  },
  {
   "attachments": {},
   "cell_type": "markdown",
   "metadata": {},
   "source": [
    "Correlation Heatmap"
   ]
  },
  {
   "cell_type": "code",
   "execution_count": null,
   "metadata": {},
   "outputs": [],
   "source": [
    "# Set the size of the figure\n",
    "fig, ax = plt.subplots(figsize=(10, 10))\n",
    "\n",
    "sns.heatmap(df.corr(numeric_only=True),annot=True,square=False, ax=ax)\n",
    "plt.show()"
   ]
  },
  {
   "attachments": {},
   "cell_type": "markdown",
   "metadata": {},
   "source": [
    "Extract a csv file with the cleaned data"
   ]
  },
  {
   "cell_type": "code",
   "execution_count": null,
   "metadata": {},
   "outputs": [],
   "source": [
    "# export datta to csv\n",
    "df.to_csv('data_cleaned.csv', index=False)"
   ]
  },
  {
   "cell_type": "code",
   "execution_count": null,
   "metadata": {},
   "outputs": [],
   "source": [
    "clusteringDf = df[['Entity', 'Daily tests', 'Daily cases', 'Daily deaths']].groupby('Entity').sum().reset_index()\n",
    "clusteringDf['Population'] = df[['Entity', 'Population']].groupby('Entity')['Population'].first().reset_index().drop_duplicates('Entity')['Population']\n",
    "clusteringDf['positivity_rate'] = (clusteringDf['Daily cases'] / clusteringDf['Daily tests']) * 100\n",
    "clusteringDf['death_rate'] = (clusteringDf['Daily deaths'] / clusteringDf['Daily cases']) * 100\n",
    "clusteringDf['mortality_rate'] = (clusteringDf['Daily cases'] / clusteringDf['Population']) * 100\n",
    "clusteringDf"
   ]
  },
  {
   "cell_type": "code",
   "execution_count": null,
   "metadata": {},
   "outputs": [],
   "source": [
    "from sklearn.cluster import KMeans\n",
    "from collections import Counter"
   ]
  },
  {
   "cell_type": "code",
   "execution_count": null,
   "metadata": {},
   "outputs": [],
   "source": [
    "distortion = []\n",
    "for k in range(2,10):\n",
    "    kmeans = KMeans(n_clusters=k,n_init=10)\n",
    "    kmeans.fit(clusteringDf[['positivity_rate', 'death_rate', 'mortality_rate']])\n",
    "    distortion.append(kmeans.inertia_)\n",
    "\n",
    "plt.plot(range(2, 10), distortion, marker = 'X' )\n",
    "plt.xlabel('Number of clusters')\n",
    "plt.ylabel('SSE')\n",
    "plt.show()"
   ]
  },
  {
   "cell_type": "code",
   "execution_count": null,
   "metadata": {},
   "outputs": [],
   "source": [
    "from yellowbrick.cluster import  SilhouetteVisualizer\n",
    "import numpy as np\n",
    "\n",
    "for k in range(2,10):\n",
    "    kmeans = KMeans(n_clusters=k,n_init=10)\n",
    "    sil_vis = SilhouetteVisualizer(kmeans)\n",
    "    sil_vis.fit(clusteringDf[['positivity_rate', 'death_rate', 'mortality_rate']])\n",
    "    sil_vis.show()\n",
    "    test = KMeans(n_clusters=k,n_init=10)\n",
    "    test.fit(clusteringDf[['positivity_rate', 'death_rate', 'mortality_rate']])\n",
    "    print(len(set(test.labels_)))"
   ]
  },
  {
   "cell_type": "code",
   "execution_count": null,
   "metadata": {},
   "outputs": [],
   "source": [
    "pd.set_option('display.max_columns', None)\n",
    "pd.set_option('display.max_rows', None)\n",
    "resultDf = clusteringDf[['positivity_rate', 'death_rate', 'mortality_rate']]\n",
    "for k in range(2,6):\n",
    "    kmeans = KMeans(n_clusters=k,n_init=10)\n",
    "    label = kmeans.fit_predict(clusteringDf[['positivity_rate', 'death_rate', 'mortality_rate']])\n",
    "\n",
    "    labels = kmeans.labels_\n",
    "    colors = ['red', 'green', 'blue','yellow','black','magenda']\n",
    "    resultDf = resultDf.copy()\n",
    "    resultDf.loc[:, 'Graph_Color'] = [colors[label] for label in labels]\n",
    "    ax = plt.axes(projection ='3d')\n",
    "    ax.scatter(resultDf['positivity_rate'], resultDf['death_rate'], resultDf['mortality_rate'], c=resultDf['Graph_Color'])\n",
    "\n",
    "    centroids = kmeans.cluster_centers_\n",
    "    cluster_count=Counter(label)\n",
    "    \n",
    "    ax.scatter(centroids[:, 0], centroids[:, 1], centroids[:, 2], marker='x', s=200, linewidths=1, color='black')\n",
    "\n",
    "    # Add labels to the plot\n",
    "    ax.set_xlabel('Positivity rate')\n",
    "    ax.set_ylabel('Death rate')\n",
    "    ax.set_zlabel('Mortality rate')\n",
    "    ax.set_title(f'{k} clusters with K-Means')\n",
    "\n",
    "    # Show the plot\n",
    "    plt.show()\n",
    "\n",
    "    for i in range(k):\n",
    "        print('cluster', i+1, 'with:', cluster_count[i], 'entities')\n",
    "        clusterDf = df.groupby('Entity').describe()[kmeans.labels_==i].loc[:, (slice(None), ['min', 'max', 'mean'])]\n",
    "        clusterDf2 = clusterDf.copy()\n",
    "        df3 = clusteringDf[kmeans.labels_==i][['Entity', 'positivity_rate', 'death_rate', 'mortality_rate']].reset_index().drop('index', axis=1)\n",
    "        df3= df3.set_index('Entity')\n",
    "        clusterDf = clusterDf.drop(['Cases', 'Deaths', 'Daily tests', 'Daily cases', 'Daily deaths'], axis=1, level=0)\n",
    "        displayDataframe = pd.concat([clusterDf.xs('mean', level=1, axis=1), clusterDf2[['Daily tests', 'Daily cases', 'Daily deaths']]], axis=1)\n",
    "        displayDataframe = pd.concat([displayDataframe, df3[['positivity_rate', 'death_rate', 'mortality_rate']]], axis=1)\n",
    "        # display(displayDataframe) # if we want to display statistics for each country in the cluster\n",
    "        display(displayDataframe.describe().loc[['min', 'mean', 'max']])"
   ]
  }
 ],
 "metadata": {
  "kernelspec": {
   "display_name": "Python 3",
   "language": "python",
   "name": "python3"
  },
  "language_info": {
   "codemirror_mode": {
    "name": "ipython",
    "version": 3
   },
   "file_extension": ".py",
   "mimetype": "text/x-python",
   "name": "python",
   "nbconvert_exporter": "python",
   "pygments_lexer": "ipython3",
   "version": "3.10.10"
  },
  "orig_nbformat": 4
 },
 "nbformat": 4,
 "nbformat_minor": 2
}
