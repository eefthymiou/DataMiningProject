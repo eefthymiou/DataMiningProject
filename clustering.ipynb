{
 "cells": [
  {
   "cell_type": "code",
   "execution_count": null,
   "metadata": {},
   "outputs": [],
   "source": [
    "import pandas as pd\n",
    "import numpy as np\n",
    "import matplotlib.pyplot as plt\n",
    "from sklearn.cluster import KMeans\n",
    "from collections import Counter"
   ]
  },
  {
   "cell_type": "code",
   "execution_count": null,
   "metadata": {},
   "outputs": [],
   "source": [
    "# import cleaned data\n",
    "df = pd.read_csv('data_cleaned.csv')"
   ]
  },
  {
   "cell_type": "code",
   "execution_count": null,
   "metadata": {},
   "outputs": [],
   "source": [
    "clusteringDf = df[['Entity', 'Daily tests', 'Daily cases', 'Daily deaths']].groupby('Entity').sum().reset_index()\n",
    "clusteringDf['Population'] = df[['Entity', 'Population']].groupby('Entity')['Population'].first().reset_index().drop_duplicates('Entity')['Population']\n",
    "clusteringDf['positivity_rate'] = (clusteringDf['Daily cases'] / clusteringDf['Daily tests']) * 100\n",
    "clusteringDf['death_rate'] = (clusteringDf['Daily deaths'] / clusteringDf['Daily cases']) * 100\n",
    "clusteringDf['mortality_rate'] = (clusteringDf['Daily cases'] / clusteringDf['Population']) * 100\n",
    "clusteringDf"
   ]
  },
  {
   "cell_type": "code",
   "execution_count": null,
   "metadata": {},
   "outputs": [],
   "source": [
    "distortion = []\n",
    "for k in range(2,100):\n",
    "    kmeans = KMeans(n_clusters=k,n_init=10)\n",
    "    kmeans.fit(clusteringDf[['positivity_rate', 'death_rate', 'mortality_rate']])\n",
    "    distortion.append(kmeans.inertia_)\n",
    "\n",
    "plt.plot(range(2, 100), distortion, marker = 'x' )\n",
    "plt.xlabel('Number of clusters')\n",
    "plt.ylabel('SSE')\n",
    "plt.show()"
   ]
  },
  {
   "cell_type": "code",
   "execution_count": null,
   "metadata": {},
   "outputs": [],
   "source": [
    "pd.set_option('display.max_columns', None)\n",
    "pd.set_option('display.max_rows', None)\n",
    "resultDf = clusteringDf[['positivity_rate', 'death_rate', 'mortality_rate']]\n",
    "for k in range(2,6):\n",
    "    kmeans = KMeans(n_clusters=k,n_init=10)\n",
    "    label = kmeans.fit_predict(clusteringDf[['positivity_rate', 'death_rate', 'mortality_rate']])\n",
    "\n",
    "    labels = kmeans.labels_\n",
    "    colors = ['red', 'green', 'blue','yellow','black','magenda']\n",
    "    resultDf = resultDf.copy()\n",
    "    resultDf.loc[:, 'Graph_Color'] = [colors[label] for label in labels]\n",
    "    ax = plt.axes(projection ='3d')\n",
    "    ax.scatter(resultDf['positivity_rate'], resultDf['death_rate'], resultDf['mortality_rate'], c=resultDf['Graph_Color'])\n",
    "\n",
    "    centroids = kmeans.cluster_centers_\n",
    "    cluster_count=Counter(label)\n",
    "    \n",
    "    ax.scatter(centroids[:, 0], centroids[:, 1], centroids[:, 2], marker='x', s=200, linewidths=1, color='black')\n",
    "\n",
    "    # Add labels to the plot\n",
    "    ax.set_xlabel('Positivity rate')\n",
    "    ax.set_ylabel('Death rate')\n",
    "    ax.set_zlabel('Mortality rate')\n",
    "    ax.set_title(f'{k} clusters with K-Means')\n",
    "\n",
    "    # Show the plot\n",
    "    plt.show()\n",
    "\n",
    "    for i in range(k):\n",
    "        print('cluster', i+1, 'with:', cluster_count[i], 'entities')\n",
    "        clusterDf = df.groupby('Entity').describe()[kmeans.labels_==i].loc[:, (slice(None), ['min', 'max', 'mean'])]\n",
    "        clusterDf2 = clusterDf.copy()\n",
    "        df3 = clusteringDf[kmeans.labels_==i][['Entity', 'positivity_rate', 'death_rate', 'mortality_rate']].reset_index().drop('index', axis=1)\n",
    "        df3= df3.set_index('Entity')\n",
    "        clusterDf = clusterDf.drop(['Cases', 'Deaths', 'Daily tests', 'Daily cases', 'Daily deaths'], axis=1, level=0)\n",
    "        displayDataframe = pd.concat([clusterDf.xs('mean', level=1, axis=1), clusterDf2[['Daily tests', 'Daily cases', 'Daily deaths']]], axis=1)\n",
    "        displayDataframe = pd.concat([displayDataframe, df3[['positivity_rate', 'death_rate', 'mortality_rate']]], axis=1)\n",
    "        # display(displayDataframe) # if we want to display statistics for each country in the cluster\n",
    "        display(displayDataframe.describe().loc[['min', 'mean', 'max']])"
   ]
  }
 ],
 "metadata": {
  "kernelspec": {
   "display_name": "Python 3",
   "language": "python",
   "name": "python3"
  },
  "language_info": {
   "codemirror_mode": {
    "name": "ipython",
    "version": 3
   },
   "file_extension": ".py",
   "mimetype": "text/x-python",
   "name": "python",
   "nbconvert_exporter": "python",
   "pygments_lexer": "ipython3",
   "version": "3.10.10"
  },
  "orig_nbformat": 4
 },
 "nbformat": 4,
 "nbformat_minor": 2
}
