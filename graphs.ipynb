{
 "cells": [
  {
   "cell_type": "code",
   "execution_count": null,
   "metadata": {},
   "outputs": [],
   "source": [
    "import pandas as pd\n",
    "import matplotlib.pyplot as plt"
   ]
  },
  {
   "cell_type": "code",
   "execution_count": null,
   "metadata": {},
   "outputs": [],
   "source": [
    "# import clean data\n",
    "df = pd.read_csv('data_cleaned.csv')\n",
    "df.head()"
   ]
  },
  {
   "attachments": {},
   "cell_type": "markdown",
   "metadata": {},
   "source": [
    "Graph of Cases by Date"
   ]
  },
  {
   "cell_type": "code",
   "execution_count": null,
   "metadata": {},
   "outputs": [],
   "source": [
    "dfByDate = df.copy()\n",
    "dfByDate.set_index('Date', inplace=True)\n",
    "\n",
    "dfByDate = dfByDate.groupby(by=[dfByDate.index]).sum(numeric_only = True)\n",
    "\n",
    "plt.plot(dfByDate.index[:-3], dfByDate['Daily cases'][:-3])\n",
    "# Get the number of data points in the DataFrame\n",
    "n_points = len(dfByDate.index)\n",
    "\n",
    "# Create a list of every 100th data point index\n",
    "tick_locs = range(0, n_points, 100)\n",
    "\n",
    "# Create a list of the corresponding tick labels\n",
    "tick_labels = dfByDate.index[tick_locs]\n",
    "\n",
    "# Set the tick locations and labels on the x-axis\n",
    "plt.xticks(tick_labels, tick_labels)\n",
    "\n",
    "plt.title(\"Daily cases\")\n",
    "plt.xlabel(\"Date\")\n",
    "\n",
    "plt.show()"
   ]
  },
  {
   "attachments": {},
   "cell_type": "markdown",
   "metadata": {},
   "source": [
    "Graph of Deaths by Date"
   ]
  },
  {
   "cell_type": "code",
   "execution_count": null,
   "metadata": {},
   "outputs": [],
   "source": [
    "plt.plot(dfByDate.index[:-3], dfByDate['Daily deaths'][:-3])\n",
    "\n",
    "# Get the number of data points in the DataFrame\n",
    "n_points = len(dfByDate.index)\n",
    "\n",
    "# Create a list of every 100th data point index\n",
    "tick_locs = range(0, n_points, 100)\n",
    "\n",
    "# Create a list of the corresponding tick labels\n",
    "tick_labels = dfByDate.index[tick_locs]\n",
    "\n",
    "# Set the tick locations and labels on the x-axis\n",
    "plt.xticks(tick_labels, tick_labels)\n",
    "\n",
    "plt.title('Daily Deaths')\n",
    "plt.xlabel('Date')\n",
    "plt.ylabel('Number of Deaths')\n",
    "plt.show()"
   ]
  },
  {
   "attachments": {},
   "cell_type": "markdown",
   "metadata": {},
   "source": [
    "Graph of Deaths by Season"
   ]
  },
  {
   "cell_type": "code",
   "execution_count": null,
   "metadata": {},
   "outputs": [],
   "source": [
    "# keep only season and deaths_today\n",
    "dfSeason = df[['Season', 'Daily deaths']]\n",
    "# group by season and sum deaths\n",
    "dfSeason = dfSeason.groupby(by=['Season']).sum(numeric_only = True)\n",
    "# plot\n",
    "plt.bar(dfSeason.index, dfSeason['Daily deaths'])\n",
    "plt.xlabel('Season')\n",
    "plt.ylabel('Deaths')\n",
    "plt.title('Seasonal Deaths')\n",
    "plt.show()\n"
   ]
  },
  {
   "attachments": {},
   "cell_type": "markdown",
   "metadata": {},
   "source": [
    "Graph of Mortality rate by Country"
   ]
  },
  {
   "cell_type": "code",
   "execution_count": null,
   "metadata": {},
   "outputs": [],
   "source": [
    "# Mortality rate is the number of deaths due to a disease divided by the total population.\n",
    "\n",
    "# keep only the entity, the population, and the deaths\n",
    "dfMortality = df[['Entity', 'Population', 'Deaths']]\n",
    "# group by entity and get the max of deaths\n",
    "dfMortality = dfMortality.groupby(by=['Entity']).max(numeric_only = True)\n",
    "# calculate mortality rate\n",
    "dfMortality['Mortality Rate'] = dfMortality['Deaths'] / dfMortality['Population']\n",
    "# remove the population and deaths columns\n",
    "dfMortality.drop(['Population', 'Deaths'], axis=1, inplace=True)\n",
    "# sort by mortality rate\n",
    "dfMortality.sort_values(by=['Mortality Rate'], ascending=False, inplace=True)\n",
    "\n",
    "# plot the mortality rate\n",
    "dfMortality.plot(kind='bar', figsize=(20, 5))\n",
    "plt.xlabel('Country')\n",
    "plt.ylabel('Mortality Rate')\n",
    "plt.title('Mortality Rate by Country')\n",
    "plt.show()"
   ]
  },
  {
   "attachments": {},
   "cell_type": "markdown",
   "metadata": {},
   "source": [
    "Graph Positivity rate by Country"
   ]
  },
  {
   "cell_type": "code",
   "execution_count": null,
   "metadata": {},
   "outputs": [],
   "source": [
    "dfPositivity = df[['Entity', 'Daily tests', 'Daily cases']]\n",
    "dfPositivity = dfPositivity.groupby(by=['Entity']).sum(numeric_only = True)\n",
    "dfPositivity['Positivity Rate'] = dfPositivity['Daily cases'] / dfPositivity['Daily tests']\n",
    "\n",
    "# remove the Daily tests, Daily cases columns\n",
    "dfPositivity.drop(['Daily tests', 'Daily cases'], axis=1, inplace=True)\n",
    "\n",
    "dfPositivity.sort_values(by=['Positivity Rate'], ascending=False, inplace=True)\n",
    "\n",
    "dfPositivity.plot(kind='bar', figsize=(20, 5))\n",
    "plt.xlabel('Country')\n",
    "plt.ylabel('Positivity Rate')\n",
    "plt.title('Positivity Rate by Country')\n",
    "plt.show()"
   ]
  },
  {
   "attachments": {},
   "cell_type": "markdown",
   "metadata": {},
   "source": [
    "Graph of Death rate by Country"
   ]
  },
  {
   "cell_type": "code",
   "execution_count": null,
   "metadata": {},
   "outputs": [],
   "source": [
    "dfDeathRate = df[['Entity', 'Daily deaths', 'Daily cases']]\n",
    "dfDeathRate = dfDeathRate.groupby(by=['Entity']).sum(numeric_only = True)\n",
    "dfDeathRate['Death Rate'] = dfDeathRate['Daily deaths'] / dfDeathRate['Daily cases']\n",
    "\n",
    "# remove the Daily deaths, Daily cases columns\n",
    "dfDeathRate.drop(['Daily deaths', 'Daily cases'], axis=1, inplace=True)\n",
    "\n",
    "dfDeathRate.sort_values(by=['Death Rate'], ascending=False, inplace=True)\n",
    "\n",
    "dfDeathRate.plot(kind='bar', figsize=(20, 5))\n",
    "plt.xlabel('Country')\n",
    "plt.ylabel('Death Rate')\n",
    "plt.title('Death Rate by Country')\n",
    "plt.show()"
   ]
  },
  {
   "attachments": {},
   "cell_type": "markdown",
   "metadata": {},
   "source": [
    "Graph of Average temperature per years of each counry by cases"
   ]
  },
  {
   "cell_type": "code",
   "execution_count": null,
   "metadata": {},
   "outputs": [],
   "source": [
    "df1 = df.copy()\n",
    "# keep only entity and temperature columns\n",
    "df1 = df1[['Entity', 'Average temperature per year']]\n",
    "# group by entity and take the mean\n",
    "df1 = df1.groupby('Entity').mean()\n",
    "\n",
    "# sort by temperature\n",
    "df1 = df1.sort_values(by='Average temperature per year', ascending=False)\n",
    "\n",
    "df1.plot(kind='bar', figsize=(20, 5))\n",
    "plt.title('Average Temperature by Country')\n",
    "plt.xlabel('Country')\n",
    "plt.ylabel('Average Temperature')\n",
    "plt.show()\n"
   ]
  },
  {
   "attachments": {},
   "cell_type": "markdown",
   "metadata": {},
   "source": [
    "Graph Hospital beds per 1000 people of each country by deaths"
   ]
  },
  {
   "cell_type": "code",
   "execution_count": null,
   "metadata": {},
   "outputs": [],
   "source": [
    "df2 = df.copy()\n",
    "# keep only entity and Hospital beds per 1000 people columns\n",
    "df2 = df2[['Entity', 'Hospital beds per 1000 people']]\n",
    "# group by entity and take the mean\n",
    "df2 = df2.groupby('Entity').mean()\n",
    "\n",
    "# sort by Hospital beds per 1000 people\n",
    "df2 = df2.sort_values(by='Hospital beds per 1000 people', ascending=False)\n",
    "\n",
    "df2.plot(kind='bar', figsize=(20, 5))\n",
    "plt.title('Hospital beds per 1000 people by Country')\n",
    "plt.xlabel('Country')\n",
    "plt.ylabel('Hospital beds per 1000 people')\n",
    "plt.show()\n"
   ]
  },
  {
   "attachments": {},
   "cell_type": "markdown",
   "metadata": {},
   "source": [
    "Graph Medical doctors per 1000 people of each country by deaths"
   ]
  },
  {
   "cell_type": "code",
   "execution_count": null,
   "metadata": {},
   "outputs": [],
   "source": [
    "df3 = df.copy()\n",
    "# keep only entity and Medical doctors per 1000 people columns\n",
    "df3 = df3[['Entity', 'Medical doctors per 1000 people']]\n",
    "# group by entity and take the mean\n",
    "df3 = df3.groupby('Entity').mean()\n",
    "\n",
    "# sort by Medical doctors per 1000 people\n",
    "df3 = df3.sort_values(by='Medical doctors per 1000 people', ascending=False)\n",
    "\n",
    "df3.plot(kind='bar', figsize=(20, 5))\n",
    "plt.title('Medical doctors per 1000 people by Country')\n",
    "plt.xlabel('Country')\n",
    "plt.ylabel('Medical doctors per 1000 people')\n",
    "plt.show()"
   ]
  },
  {
   "attachments": {},
   "cell_type": "markdown",
   "metadata": {},
   "source": [
    "Graph Population aged 65 and over of each country by deaths"
   ]
  },
  {
   "cell_type": "code",
   "execution_count": null,
   "metadata": {},
   "outputs": [],
   "source": [
    "df4 = df.copy()\n",
    "# keep only entity and Population density columns\n",
    "df4 = df4[['Entity', 'Population aged 65 and over (%)']]\n",
    "# group by entity and take the mean\n",
    "df4 = df4.groupby('Entity').mean()\n",
    "\n",
    "# sort by Population density\n",
    "df4 = df4.sort_values(by='Population aged 65 and over (%)', ascending=False)\n",
    "\n",
    "df4.plot(kind='bar', figsize=(20, 5))\n",
    "plt.title('Population aged 65 and over (%) by Country')\n",
    "plt.xlabel('Country')\n",
    "plt.ylabel('Population aged 65 and over (%)')\n",
    "plt.show()"
   ]
  }
 ],
 "metadata": {
  "kernelspec": {
   "display_name": "Python 3",
   "language": "python",
   "name": "python3"
  },
  "language_info": {
   "codemirror_mode": {
    "name": "ipython",
    "version": 3
   },
   "file_extension": ".py",
   "mimetype": "text/x-python",
   "name": "python",
   "nbconvert_exporter": "python",
   "pygments_lexer": "ipython3",
   "version": "3.10.10"
  },
  "orig_nbformat": 4
 },
 "nbformat": 4,
 "nbformat_minor": 2
}
