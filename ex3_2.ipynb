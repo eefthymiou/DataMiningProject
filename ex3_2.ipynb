{
 "cells": [
  {
   "cell_type": "code",
   "execution_count": null,
   "metadata": {},
   "outputs": [],
   "source": [
    "import pandas as pd\n",
    "import numpy as np\n",
    "from sklearn.model_selection import train_test_split\n",
    "from sklearn.svm import SVR\n",
    "from sklearn.metrics import mean_squared_error, mean_absolute_error, r2_score\n",
    "from keras.models import Sequential\n",
    "from keras.layers import LSTM, Dense\n",
    "from keras.optimizers import Adam\n",
    "import matplotlib.pyplot as plt\n",
    "from keras.layers import Dropout\n",
    "from sklearn.preprocessing import MinMaxScaler\n",
    "import keras \n",
    "\n",
    "dataset = pd.read_csv('data.csv')"
   ]
  },
  {
   "cell_type": "code",
   "execution_count": null,
   "metadata": {},
   "outputs": [],
   "source": [
    "greece_data = dataset.loc[dataset['Entity'] == 'Greece', ['Date', 'Cases', 'Daily tests']].copy().reset_index(drop=True)\n",
    "\n",
    "greece_data = greece_data.drop(greece_data.index[range(0, 25)])\n",
    "greece_data = greece_data.drop(greece_data.index[range(364 - 25, 368 - 25)])\n",
    "greece_data = greece_data.reset_index(drop=True)\n",
    "\n",
    "greece_data['Date'] = pd.to_datetime(greece_data['Date'])\n",
    "greece_data.sort_values('Date', inplace=True)\n",
    "\n",
    "greece_data['Positivity'] = (greece_data['Cases'].diff() / greece_data['Daily tests']) * 100\n",
    "\n",
    "greece_data"
   ]
  },
  {
   "cell_type": "code",
   "execution_count": null,
   "metadata": {},
   "outputs": [],
   "source": [
    "data = greece_data[['Positivity']].copy()\n",
    "data"
   ]
  },
  {
   "cell_type": "code",
   "execution_count": null,
   "metadata": {},
   "outputs": [],
   "source": [
    "# Forward fill and backward fill to remove NaN values and drop duplicates\n",
    "data = data.apply(lambda x: x.fillna(method='ffill'))\n",
    "data = data.apply(lambda x: x.fillna(method='bfill'))\n",
    "data"
   ]
  },
  {
   "cell_type": "code",
   "execution_count": null,
   "metadata": {},
   "outputs": [],
   "source": [
    "data = MinMaxScaler(feature_range=(0,1)).fit_transform(data)"
   ]
  },
  {
   "cell_type": "code",
   "execution_count": null,
   "metadata": {},
   "outputs": [],
   "source": [
    "X_train = []\n",
    "y_train = []\n",
    "X_test = []\n",
    "y_test = []\n",
    "\n",
    "for i in range(3, greece_data.loc[greece_data['Date'] == '2021-01-01'].index[0]):\n",
    "   X_train.append(data[i-3:i,0]) \n",
    "   y_train.append(data[i+3,0])\n",
    "    \n",
    "for i in range(greece_data.loc[greece_data['Date'] == '2021-01-01'].index[0], data.size - 3):\n",
    "   X_test.append(data[i-3:i,0]) \n",
    "   y_test.append(data[i+3,0])"
   ]
  },
  {
   "cell_type": "code",
   "execution_count": null,
   "metadata": {},
   "outputs": [],
   "source": [
    "X_train = np.array(X_train)\n",
    "y_train = np.array(y_train)\n",
    "\n",
    "X_test = np.array(X_test)\n",
    "y_test = np.array(y_test)\n",
    "\n",
    "X_train_rnn = np.reshape(X_train, (X_train.shape[0], X_train.shape[1], 1))\n",
    "X_test_rnn = np.reshape(X_test, (X_test.shape[0], X_test.shape[1], 1))\n",
    "\n",
    "X_train_svm = np.reshape(X_train, (X_train.shape[0], -1))\n",
    "X_test_svm = np.reshape(X_test, (X_test.shape[0], -1))"
   ]
  },
  {
   "cell_type": "code",
   "execution_count": null,
   "metadata": {},
   "outputs": [],
   "source": [
    "model = keras.Sequential()\n",
    "model.add(LSTM(100, return_sequences=True, input_shape=(X_train_rnn.shape[1], 1)))\n",
    "model.add(Dropout(0.2))\n",
    "model.add(LSTM(100, return_sequences=True))\n",
    "model.add(Dropout(0.2))\n",
    "model.add(LSTM(100, return_sequences=True))\n",
    "model.add(Dropout(0.2))\n",
    "model.add(LSTM(100))\n",
    "model.add(Dense(1))\n",
    "\n",
    "model.compile(optimizer='adam', loss='mean_squared_error')\n",
    "\n",
    "result = model.fit(X_train_rnn, y_train, epochs=100, batch_size=32)"
   ]
  },
  {
   "cell_type": "code",
   "execution_count": null,
   "metadata": {},
   "outputs": [],
   "source": [
    "model_svm = SVR(kernel='rbf')\n",
    "\n",
    "model_svm.fit(X_train_svm, y_train)"
   ]
  },
  {
   "cell_type": "code",
   "execution_count": null,
   "metadata": {},
   "outputs": [],
   "source": [
    "# Find the index corresponding to the '2021-01-01' date\n",
    "start_index = greece_data.loc[greece_data['Date'] == '2021-01-01'].index[0]\n",
    "\n",
    "# Create a DataFrame with 'Date' and 'y_test' values\n",
    "result_df = pd.DataFrame({\n",
    "    'Date': greece_data['Date'][start_index+3:],\n",
    "    'y_test': y_test.flatten()\n",
    "})\n",
    "\n",
    "result_df.set_index('Date', inplace=True)"
   ]
  },
  {
   "cell_type": "code",
   "execution_count": null,
   "metadata": {},
   "outputs": [],
   "source": [
    "y_pred_rnn = model.predict(X_test_rnn)\n",
    "\n",
    "# Plotting the predicted and actual values for RNN model\n",
    "plt.figure(figsize=(10, 6))\n",
    "plt.plot(result_df.index, result_df['y_test'], label='Actual')\n",
    "plt.plot(result_df.index, y_pred_rnn, label='Predicted (RNN)')\n",
    "plt.xlabel('Date')\n",
    "plt.ylabel('Positivity')\n",
    "plt.title('Positivity - Actual vs Predicted (RNN Model)')\n",
    "plt.legend()\n",
    "plt.xticks(rotation=45)\n",
    "plt.show()"
   ]
  },
  {
   "cell_type": "code",
   "execution_count": null,
   "metadata": {},
   "outputs": [],
   "source": [
    "y_pred_svm = model_svm.predict(X_test_svm)\n",
    "\n",
    "# Plotting the predicted and actual values for SVM model\n",
    "plt.figure(figsize=(10, 6))\n",
    "plt.plot(result_df.index, result_df['y_test'], label='Actual')\n",
    "plt.plot(result_df.index, y_pred_svm, label='Predicted (SVM)')\n",
    "plt.xlabel('Date')\n",
    "plt.ylabel('Positivity')\n",
    "plt.title('Positivity - Actual vs Predicted (SVM Model)')\n",
    "plt.legend()\n",
    "plt.xticks(rotation=45)\n",
    "plt.show()"
   ]
  },
  {
   "cell_type": "code",
   "execution_count": null,
   "metadata": {},
   "outputs": [],
   "source": [
    "# RNN Model Evaluation\n",
    "rnn_predictions = model.predict(X_test_rnn)\n",
    "rnn_mse = mean_squared_error(y_test, rnn_predictions)\n",
    "rnn_mae = mean_absolute_error(y_test, rnn_predictions)\n",
    "print(\"RNN Model Evaluation:\")\n",
    "print(\"MSE:\", rnn_mse)\n",
    "print(\"MAE:\", rnn_mae)\n",
    "\n",
    "# SVM Model Evaluation\n",
    "svm_predictions = model_svm.predict(X_test_svm)\n",
    "svm_mse = mean_squared_error(y_test, svm_predictions)\n",
    "svm_mae = mean_absolute_error(y_test, svm_predictions)\n",
    "print(\"SVM Model Evaluation:\")\n",
    "print(\"MSE:\", svm_mse)\n",
    "print(\"MAE:\", svm_mae)"
   ]
  },
  {
   "attachments": {},
   "cell_type": "markdown",
   "metadata": {},
   "source": [
    "Βασιζόμενοι μόνο σε αυτές τις μετρικές παρατηρούμε ότι το SVM είναι ελάχιστα καλύτερος παλινδρομητής σε σχέση με το RNN αφού έχει μικρότερες MAE και MSE τιμές."
   ]
  }
 ],
 "metadata": {
  "kernelspec": {
   "display_name": "Python 3",
   "language": "python",
   "name": "python3"
  },
  "language_info": {
   "codemirror_mode": {
    "name": "ipython",
    "version": 3
   },
   "file_extension": ".py",
   "mimetype": "text/x-python",
   "name": "python",
   "nbconvert_exporter": "python",
   "pygments_lexer": "ipython3",
   "version": "3.10.5"
  },
  "orig_nbformat": 4
 },
 "nbformat": 4,
 "nbformat_minor": 2
}
